{
 "cells": [
  {
   "cell_type": "code",
   "execution_count": 2,
   "id": "41b625f1",
   "metadata": {},
   "outputs": [],
   "source": [
    "# Imports\n",
    "from PIL import Image\n",
    "import numpy as np\n",
    "import torch\n",
    "import torchio as tio"
   ]
  },
  {
   "cell_type": "markdown",
   "id": "fb31b20e",
   "metadata": {},
   "source": [
    "## Random Blur"
   ]
  },
  {
   "cell_type": "code",
   "execution_count": null,
   "id": "63a86cb0",
   "metadata": {},
   "outputs": [],
   "source": [
    "# Load your the Picture\n",
    "img = Image.open('Tr-gl_0010.jpg').convert('L')\n",
    "arr = np.array(img)                  \n",
    "\n",
    "# Build a 4D tensor\n",
    "tensor = torch.from_numpy(arr).unsqueeze(0).unsqueeze(-1).float()\n",
    "affine = np.eye(4)\n",
    "\n",
    "# Wrap in a TorchIO Subject\n",
    "subject = tio.Subject(\n",
    "    image=tio.ScalarImage(tensor=tensor, affine=affine)\n",
    ")\n",
    "\n",
    "# Define and apply RandomBlur\n",
    "blur = tio.RandomBlur(std=(0, 2), p=1.0)\n",
    "transformed = blur(subject)\n",
    "\n",
    "# Extract the blurred data, squeeze back to 2D\n",
    "blurred = transformed.image.data.squeeze(0).squeeze(-1).numpy()\n",
    "\n",
    "# Convert to uint8 and save as JPG\n",
    "blurred_img = Image.fromarray(np.clip(blurred, 0, 255).astype(np.uint8))\n",
    "blurred_img.save('results/blurred_image.jpg')"
   ]
  },
  {
   "cell_type": "markdown",
   "id": "8d0a7229",
   "metadata": {},
   "source": [
    "## Random Noise"
   ]
  },
  {
   "cell_type": "code",
   "execution_count": 7,
   "id": "1b9e23bd",
   "metadata": {},
   "outputs": [],
   "source": [
    "# Define and apply RandomNoise\n",
    "noise = tio.RandomNoise(mean=0, std=(0, 25), p=1.0)\n",
    "transformed_noise = noise(subject)\n",
    "\n",
    "# Extract back to 2D NumPy array\n",
    "noisy = transformed_noise.image.data.squeeze(0).squeeze(-1).numpy()\n",
    "\n",
    "# Convert to uint8 and save as JPG\n",
    "noisy_img = Image.fromarray(np.clip(noisy, 0, 255).astype(np.uint8))\n",
    "noisy_img.save('results/noisy_image.jpg')"
   ]
  },
  {
   "cell_type": "markdown",
   "id": "8c8bb789",
   "metadata": {},
   "source": [
    "## Random Motion"
   ]
  },
  {
   "cell_type": "code",
   "execution_count": 8,
   "id": "9cd43de4",
   "metadata": {},
   "outputs": [],
   "source": [
    "# Define and apply RandomMotion\n",
    "motion = tio.RandomMotion(\n",
    "    degrees=10,\n",
    "    translation=10,\n",
    "    num_transforms=2,\n",
    "    p=1.0,\n",
    ") \n",
    "transformed = motion(subject)\n",
    "\n",
    "# Extract back to 2D NumPy array\n",
    "moved = transformed.image.data.squeeze(0).squeeze(-1).numpy()\n",
    "\n",
    "# Convert to uint8 and save as JPG\n",
    "moved_img = Image.fromarray(np.clip(moved, 0, 255).astype(np.uint8))\n",
    "moved_img.save('results/motion_image.jpg')"
   ]
  }
 ],
 "metadata": {
  "kernelspec": {
   "display_name": "Python 3",
   "language": "python",
   "name": "python3"
  },
  "language_info": {
   "codemirror_mode": {
    "name": "ipython",
    "version": 3
   },
   "file_extension": ".py",
   "mimetype": "text/x-python",
   "name": "python",
   "nbconvert_exporter": "python",
   "pygments_lexer": "ipython3",
   "version": "3.13.2"
  }
 },
 "nbformat": 4,
 "nbformat_minor": 5
}
