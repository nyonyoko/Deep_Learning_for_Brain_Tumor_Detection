{
 "cells": [
  {
   "cell_type": "code",
   "execution_count": 9,
   "metadata": {},
   "outputs": [
    {
     "name": "stdout",
     "output_type": "stream",
     "text": [
      "Cloning into 'yolov7'...\n",
      "remote: Enumerating objects: 1197, done.\u001b[K\n",
      "remote: Total 1197 (delta 0), reused 0 (delta 0), pack-reused 1197 (from 1)\u001b[K\n",
      "Receiving objects: 100% (1197/1197), 74.23 MiB | 8.48 MiB/s, done.\n",
      "Resolving deltas: 100% (519/519), done.\n",
      "/Users/leoyaoair23/MacAirLeoYao/Spring 2025/DL/project/yolov7/yolov7\n"
     ]
    },
    {
     "name": "stderr",
     "output_type": "stream",
     "text": [
      "/Users/leoyaoair23/Library/Python/3.9/lib/python/site-packages/IPython/core/magics/osm.py:417: UserWarning: using dhist requires you to install the `pickleshare` library.\n",
      "  self.shell.db['dhist'] = compress_dhist(dhist)[-100:]\n"
     ]
    },
    {
     "name": "stdout",
     "output_type": "stream",
     "text": [
      "Defaulting to user installation because normal site-packages is not writeable\n",
      "Requirement already satisfied: matplotlib>=3.2.2 in /Users/leoyaoair23/Library/Python/3.9/lib/python/site-packages (from -r requirements.txt (line 4)) (3.9.4)\n",
      "Requirement already satisfied: numpy<1.24.0,>=1.18.5 in /Users/leoyaoair23/Library/Python/3.9/lib/python/site-packages (from -r requirements.txt (line 5)) (1.23.5)\n",
      "Requirement already satisfied: opencv-python>=4.1.1 in /Users/leoyaoair23/Library/Python/3.9/lib/python/site-packages (from -r requirements.txt (line 6)) (4.11.0.86)\n",
      "Requirement already satisfied: Pillow>=7.1.2 in /Users/leoyaoair23/Library/Python/3.9/lib/python/site-packages (from -r requirements.txt (line 7)) (11.1.0)\n",
      "Requirement already satisfied: PyYAML>=5.3.1 in /Users/leoyaoair23/Library/Python/3.9/lib/python/site-packages (from -r requirements.txt (line 8)) (6.0.2)\n",
      "Requirement already satisfied: requests>=2.23.0 in /Users/leoyaoair23/Library/Python/3.9/lib/python/site-packages (from -r requirements.txt (line 9)) (2.32.3)\n",
      "Requirement already satisfied: scipy>=1.4.1 in /Users/leoyaoair23/Library/Python/3.9/lib/python/site-packages (from -r requirements.txt (line 10)) (1.13.1)\n",
      "Requirement already satisfied: torch!=1.12.0,>=1.7.0 in /Users/leoyaoair23/Library/Python/3.9/lib/python/site-packages (from -r requirements.txt (line 11)) (2.6.0)\n",
      "Requirement already satisfied: torchvision!=0.13.0,>=0.8.1 in /Users/leoyaoair23/Library/Python/3.9/lib/python/site-packages (from -r requirements.txt (line 12)) (0.21.0)\n",
      "Requirement already satisfied: tqdm>=4.41.0 in /Users/leoyaoair23/Library/Python/3.9/lib/python/site-packages (from -r requirements.txt (line 13)) (4.66.2)\n",
      "Requirement already satisfied: protobuf<4.21.3 in /Users/leoyaoair23/Library/Python/3.9/lib/python/site-packages (from -r requirements.txt (line 14)) (4.21.2)\n",
      "Requirement already satisfied: tensorboard>=2.4.1 in /Users/leoyaoair23/Library/Python/3.9/lib/python/site-packages (from -r requirements.txt (line 17)) (2.19.0)\n",
      "Requirement already satisfied: pandas>=1.1.4 in /Users/leoyaoair23/Library/Python/3.9/lib/python/site-packages (from -r requirements.txt (line 21)) (2.2.3)\n",
      "Requirement already satisfied: seaborn>=0.11.0 in /Users/leoyaoair23/Library/Python/3.9/lib/python/site-packages (from -r requirements.txt (line 22)) (0.13.2)\n",
      "Requirement already satisfied: ipython in /Users/leoyaoair23/Library/Python/3.9/lib/python/site-packages (from -r requirements.txt (line 34)) (8.18.1)\n",
      "Requirement already satisfied: psutil in /Users/leoyaoair23/Library/Python/3.9/lib/python/site-packages (from -r requirements.txt (line 35)) (5.9.8)\n",
      "Requirement already satisfied: thop in /Users/leoyaoair23/Library/Python/3.9/lib/python/site-packages (from -r requirements.txt (line 36)) (0.1.1.post2209072238)\n",
      "Requirement already satisfied: contourpy>=1.0.1 in /Users/leoyaoair23/Library/Python/3.9/lib/python/site-packages (from matplotlib>=3.2.2->-r requirements.txt (line 4)) (1.3.0)\n",
      "Requirement already satisfied: cycler>=0.10 in /Users/leoyaoair23/Library/Python/3.9/lib/python/site-packages (from matplotlib>=3.2.2->-r requirements.txt (line 4)) (0.12.1)\n",
      "Requirement already satisfied: fonttools>=4.22.0 in /Users/leoyaoair23/Library/Python/3.9/lib/python/site-packages (from matplotlib>=3.2.2->-r requirements.txt (line 4)) (4.56.0)\n",
      "Requirement already satisfied: kiwisolver>=1.3.1 in /Users/leoyaoair23/Library/Python/3.9/lib/python/site-packages (from matplotlib>=3.2.2->-r requirements.txt (line 4)) (1.4.7)\n",
      "Requirement already satisfied: packaging>=20.0 in /Users/leoyaoair23/Library/Python/3.9/lib/python/site-packages (from matplotlib>=3.2.2->-r requirements.txt (line 4)) (24.2)\n",
      "Requirement already satisfied: pyparsing>=2.3.1 in /Users/leoyaoair23/Library/Python/3.9/lib/python/site-packages (from matplotlib>=3.2.2->-r requirements.txt (line 4)) (3.2.1)\n",
      "Requirement already satisfied: python-dateutil>=2.7 in /Users/leoyaoair23/Library/Python/3.9/lib/python/site-packages (from matplotlib>=3.2.2->-r requirements.txt (line 4)) (2.9.0.post0)\n",
      "Requirement already satisfied: importlib-resources>=3.2.0 in /Users/leoyaoair23/Library/Python/3.9/lib/python/site-packages (from matplotlib>=3.2.2->-r requirements.txt (line 4)) (6.5.2)\n",
      "Requirement already satisfied: charset-normalizer<4,>=2 in /Users/leoyaoair23/Library/Python/3.9/lib/python/site-packages (from requests>=2.23.0->-r requirements.txt (line 9)) (3.3.2)\n",
      "Requirement already satisfied: idna<4,>=2.5 in /Users/leoyaoair23/Library/Python/3.9/lib/python/site-packages (from requests>=2.23.0->-r requirements.txt (line 9)) (3.6)\n",
      "Requirement already satisfied: urllib3<3,>=1.21.1 in /Users/leoyaoair23/Library/Python/3.9/lib/python/site-packages (from requests>=2.23.0->-r requirements.txt (line 9)) (2.4.0)\n",
      "Requirement already satisfied: certifi>=2017.4.17 in /Users/leoyaoair23/Library/Python/3.9/lib/python/site-packages (from requests>=2.23.0->-r requirements.txt (line 9)) (2024.2.2)\n",
      "Requirement already satisfied: filelock in /Users/leoyaoair23/Library/Python/3.9/lib/python/site-packages (from torch!=1.12.0,>=1.7.0->-r requirements.txt (line 11)) (3.13.3)\n",
      "Requirement already satisfied: typing-extensions>=4.10.0 in /Users/leoyaoair23/Library/Python/3.9/lib/python/site-packages (from torch!=1.12.0,>=1.7.0->-r requirements.txt (line 11)) (4.12.2)\n",
      "Requirement already satisfied: networkx in /Users/leoyaoair23/Library/Python/3.9/lib/python/site-packages (from torch!=1.12.0,>=1.7.0->-r requirements.txt (line 11)) (3.2.1)\n",
      "Requirement already satisfied: jinja2 in /Users/leoyaoair23/Library/Python/3.9/lib/python/site-packages (from torch!=1.12.0,>=1.7.0->-r requirements.txt (line 11)) (3.1.3)\n",
      "Requirement already satisfied: fsspec in /Users/leoyaoair23/Library/Python/3.9/lib/python/site-packages (from torch!=1.12.0,>=1.7.0->-r requirements.txt (line 11)) (2024.3.1)\n",
      "Requirement already satisfied: sympy==1.13.1 in /Users/leoyaoair23/Library/Python/3.9/lib/python/site-packages (from torch!=1.12.0,>=1.7.0->-r requirements.txt (line 11)) (1.13.1)\n",
      "Requirement already satisfied: mpmath<1.4,>=1.1.0 in /Users/leoyaoair23/Library/Python/3.9/lib/python/site-packages (from sympy==1.13.1->torch!=1.12.0,>=1.7.0->-r requirements.txt (line 11)) (1.3.0)\n",
      "Requirement already satisfied: absl-py>=0.4 in /Users/leoyaoair23/Library/Python/3.9/lib/python/site-packages (from tensorboard>=2.4.1->-r requirements.txt (line 17)) (2.1.0)\n",
      "Requirement already satisfied: grpcio>=1.48.2 in /Users/leoyaoair23/Library/Python/3.9/lib/python/site-packages (from tensorboard>=2.4.1->-r requirements.txt (line 17)) (1.62.0)\n",
      "Requirement already satisfied: markdown>=2.6.8 in /Users/leoyaoair23/Library/Python/3.9/lib/python/site-packages (from tensorboard>=2.4.1->-r requirements.txt (line 17)) (3.5.2)\n",
      "Requirement already satisfied: setuptools>=41.0.0 in /Users/leoyaoair23/Library/Python/3.9/lib/python/site-packages (from tensorboard>=2.4.1->-r requirements.txt (line 17)) (69.2.0)\n",
      "Requirement already satisfied: six>1.9 in /Users/leoyaoair23/Library/Python/3.9/lib/python/site-packages (from tensorboard>=2.4.1->-r requirements.txt (line 17)) (1.17.0)\n",
      "Requirement already satisfied: tensorboard-data-server<0.8.0,>=0.7.0 in /Users/leoyaoair23/Library/Python/3.9/lib/python/site-packages (from tensorboard>=2.4.1->-r requirements.txt (line 17)) (0.7.2)\n",
      "Requirement already satisfied: werkzeug>=1.0.1 in /Users/leoyaoair23/Library/Python/3.9/lib/python/site-packages (from tensorboard>=2.4.1->-r requirements.txt (line 17)) (3.0.1)\n",
      "Requirement already satisfied: pytz>=2020.1 in /Users/leoyaoair23/Library/Python/3.9/lib/python/site-packages (from pandas>=1.1.4->-r requirements.txt (line 21)) (2025.1)\n",
      "Requirement already satisfied: tzdata>=2022.7 in /Users/leoyaoair23/Library/Python/3.9/lib/python/site-packages (from pandas>=1.1.4->-r requirements.txt (line 21)) (2025.1)\n",
      "Requirement already satisfied: decorator in /Users/leoyaoair23/Library/Python/3.9/lib/python/site-packages (from ipython->-r requirements.txt (line 34)) (5.1.1)\n",
      "Requirement already satisfied: jedi>=0.16 in /Users/leoyaoair23/Library/Python/3.9/lib/python/site-packages (from ipython->-r requirements.txt (line 34)) (0.19.1)\n",
      "Requirement already satisfied: matplotlib-inline in /Users/leoyaoair23/Library/Python/3.9/lib/python/site-packages (from ipython->-r requirements.txt (line 34)) (0.1.6)\n",
      "Requirement already satisfied: prompt-toolkit<3.1.0,>=3.0.41 in /Users/leoyaoair23/Library/Python/3.9/lib/python/site-packages (from ipython->-r requirements.txt (line 34)) (3.0.43)\n",
      "Requirement already satisfied: pygments>=2.4.0 in /Users/leoyaoair23/Library/Python/3.9/lib/python/site-packages (from ipython->-r requirements.txt (line 34)) (2.17.2)\n",
      "Requirement already satisfied: stack-data in /Users/leoyaoair23/Library/Python/3.9/lib/python/site-packages (from ipython->-r requirements.txt (line 34)) (0.6.3)\n",
      "Requirement already satisfied: traitlets>=5 in /Users/leoyaoair23/Library/Python/3.9/lib/python/site-packages (from ipython->-r requirements.txt (line 34)) (5.14.1)\n",
      "Requirement already satisfied: exceptiongroup in /Users/leoyaoair23/Library/Python/3.9/lib/python/site-packages (from ipython->-r requirements.txt (line 34)) (1.2.0)\n",
      "Requirement already satisfied: pexpect>4.3 in /Users/leoyaoair23/Library/Python/3.9/lib/python/site-packages (from ipython->-r requirements.txt (line 34)) (4.9.0)\n",
      "Requirement already satisfied: wcwidth in /Users/leoyaoair23/Library/Python/3.9/lib/python/site-packages (from prompt-toolkit<3.1.0,>=3.0.41->ipython->-r requirements.txt (line 34)) (0.2.13)\n",
      "Requirement already satisfied: zipp>=3.1.0 in /Users/leoyaoair23/Library/Python/3.9/lib/python/site-packages (from importlib-resources>=3.2.0->matplotlib>=3.2.2->-r requirements.txt (line 4)) (3.21.0)\n",
      "Requirement already satisfied: parso<0.9.0,>=0.8.3 in /Users/leoyaoair23/Library/Python/3.9/lib/python/site-packages (from jedi>=0.16->ipython->-r requirements.txt (line 34)) (0.8.3)\n",
      "Requirement already satisfied: importlib-metadata>=4.4 in /Users/leoyaoair23/Library/Python/3.9/lib/python/site-packages (from markdown>=2.6.8->tensorboard>=2.4.1->-r requirements.txt (line 17)) (7.0.1)\n",
      "Requirement already satisfied: ptyprocess>=0.5 in /Users/leoyaoair23/Library/Python/3.9/lib/python/site-packages (from pexpect>4.3->ipython->-r requirements.txt (line 34)) (0.7.0)\n",
      "Requirement already satisfied: MarkupSafe>=2.1.1 in /Users/leoyaoair23/Library/Python/3.9/lib/python/site-packages (from werkzeug>=1.0.1->tensorboard>=2.4.1->-r requirements.txt (line 17)) (2.1.5)\n",
      "Requirement already satisfied: executing>=1.2.0 in /Users/leoyaoair23/Library/Python/3.9/lib/python/site-packages (from stack-data->ipython->-r requirements.txt (line 34)) (2.0.1)\n",
      "Requirement already satisfied: asttokens>=2.1.0 in /Users/leoyaoair23/Library/Python/3.9/lib/python/site-packages (from stack-data->ipython->-r requirements.txt (line 34)) (2.4.1)\n",
      "Requirement already satisfied: pure-eval in /Users/leoyaoair23/Library/Python/3.9/lib/python/site-packages (from stack-data->ipython->-r requirements.txt (line 34)) (0.2.2)\n",
      "\n",
      "\u001b[1m[\u001b[0m\u001b[34;49mnotice\u001b[0m\u001b[1;39;49m]\u001b[0m\u001b[39;49m A new release of pip is available: \u001b[0m\u001b[31;49m25.1\u001b[0m\u001b[39;49m -> \u001b[0m\u001b[32;49m25.1.1\u001b[0m\n",
      "\u001b[1m[\u001b[0m\u001b[34;49mnotice\u001b[0m\u001b[1;39;49m]\u001b[0m\u001b[39;49m To update, run: \u001b[0m\u001b[32;49m/Library/Developer/CommandLineTools/usr/bin/python3 -m pip install --upgrade pip\u001b[0m\n"
     ]
    }
   ],
   "source": [
    "# Install & set up YOLOv7 (uncomment to run)\n",
    "!git clone https://github.com/WongKinYiu/yolov7.git\n",
    "%cd yolov7\n",
    "!pip3 install -r requirements.txt"
   ]
  },
  {
   "cell_type": "code",
   "execution_count": 2,
   "metadata": {},
   "outputs": [],
   "source": [
    "# Create a dataset config YAML for YOLOv7\n",
    "import yaml\n",
    "data_cfg = {\n",
    "    'train': '../dataset/Training',\n",
    "    'val':   '../dataset/Testing',\n",
    "    'nc':    4,\n",
    "    'names': ['glioma', 'meningioma', 'notumor', 'pituitary']\n",
    "}\n",
    "with open('brain_tumor.yaml', 'w') as f:\n",
    "    yaml.dump(data_cfg, f, default_flow_style=False)"
   ]
  },
  {
   "cell_type": "code",
   "execution_count": 3,
   "metadata": {},
   "outputs": [],
   "source": [
    "# Imports\n",
    "import os\n",
    "import shutil\n",
    "from PIL import Image\n",
    "import matplotlib.pyplot as plt\n",
    "import seaborn as sns"
   ]
  },
  {
   "cell_type": "code",
   "execution_count": 4,
   "metadata": {},
   "outputs": [],
   "source": [
    "# Add yolov7 repo to path\n",
    "import sys\n",
    "sys.path.append('yolov7')"
   ]
  },
  {
   "cell_type": "code",
   "execution_count": 7,
   "metadata": {},
   "outputs": [
    {
     "name": "stdout",
     "output_type": "stream",
     "text": [
      "/Users/leoyaoair23/Library/Python/3.9/lib/python/site-packages/urllib3/__init__.py:35: NotOpenSSLWarning: urllib3 v2 only supports OpenSSL 1.1.1+, currently the 'ssl' module is compiled with 'LibreSSL 2.8.3'. See: https://github.com/urllib3/urllib3/issues/3020\n",
      "  warnings.warn(\n",
      "Traceback (most recent call last):\n",
      "  File \"/Users/leoyaoair23/MacAirLeoYao/Spring 2025/DL/project/yolov7/train.py\", line 595, in <module>\n",
      "    device = select_device(opt.device, batch_size=opt.batch_size)\n",
      "  File \"/Users/leoyaoair23/MacAirLeoYao/Spring 2025/DL/project/yolov7/utils/torch_utils.py\", line 71, in select_device\n",
      "    assert torch.cuda.is_available(), f'CUDA unavailable, invalid device {device} requested'  # check availability\n",
      "AssertionError: CUDA unavailable, invalid device 0 requested\n"
     ]
    }
   ],
   "source": [
    "# Train YOLOv7\n",
    "# (This will write training logs and curves into runs/train/exp/)\n",
    "!python3 train.py \\\n",
    "    --img 200 200 \\\n",
    "    --batch 16 \\\n",
    "    --epochs 20 \\\n",
    "    --data brain_tumor.yaml \\\n",
    "    --cfg cfg/training/yolov7.yaml \\\n",
    "    --weights 'yolov7.pt' \\\n",
    "    --device 0"
   ]
  },
  {
   "cell_type": "code",
   "execution_count": 8,
   "metadata": {},
   "outputs": [
    {
     "ename": "FileNotFoundError",
     "evalue": "[Errno 2] No such file or directory: 'runs/train/exp/results.png'",
     "output_type": "error",
     "traceback": [
      "\u001b[0;31m---------------------------------------------------------------------------\u001b[0m",
      "\u001b[0;31mFileNotFoundError\u001b[0m                         Traceback (most recent call last)",
      "Cell \u001b[0;32mIn[8], line 4\u001b[0m\n\u001b[1;32m      2\u001b[0m \u001b[38;5;28;01mfrom\u001b[39;00m \u001b[38;5;21;01mPIL\u001b[39;00m \u001b[38;5;28;01mimport\u001b[39;00m Image\n\u001b[1;32m      3\u001b[0m fig, ax \u001b[38;5;241m=\u001b[39m plt\u001b[38;5;241m.\u001b[39msubplots(figsize\u001b[38;5;241m=\u001b[39m(\u001b[38;5;241m10\u001b[39m, \u001b[38;5;241m6\u001b[39m))\n\u001b[0;32m----> 4\u001b[0m results_img \u001b[38;5;241m=\u001b[39m \u001b[43mImage\u001b[49m\u001b[38;5;241;43m.\u001b[39;49m\u001b[43mopen\u001b[49m\u001b[43m(\u001b[49m\u001b[38;5;124;43m'\u001b[39;49m\u001b[38;5;124;43mruns/train/exp/results.png\u001b[39;49m\u001b[38;5;124;43m'\u001b[39;49m\u001b[43m)\u001b[49m\n\u001b[1;32m      5\u001b[0m ax\u001b[38;5;241m.\u001b[39mimshow(results_img)\n\u001b[1;32m      6\u001b[0m ax\u001b[38;5;241m.\u001b[39maxis(\u001b[38;5;124m'\u001b[39m\u001b[38;5;124moff\u001b[39m\u001b[38;5;124m'\u001b[39m)\n",
      "File \u001b[0;32m~/Library/Python/3.9/lib/python/site-packages/PIL/Image.py:3465\u001b[0m, in \u001b[0;36mopen\u001b[0;34m(fp, mode, formats)\u001b[0m\n\u001b[1;32m   3462\u001b[0m     filename \u001b[38;5;241m=\u001b[39m os\u001b[38;5;241m.\u001b[39mfspath(fp)\n\u001b[1;32m   3464\u001b[0m \u001b[38;5;28;01mif\u001b[39;00m filename:\n\u001b[0;32m-> 3465\u001b[0m     fp \u001b[38;5;241m=\u001b[39m \u001b[43mbuiltins\u001b[49m\u001b[38;5;241;43m.\u001b[39;49m\u001b[43mopen\u001b[49m\u001b[43m(\u001b[49m\u001b[43mfilename\u001b[49m\u001b[43m,\u001b[49m\u001b[43m \u001b[49m\u001b[38;5;124;43m\"\u001b[39;49m\u001b[38;5;124;43mrb\u001b[39;49m\u001b[38;5;124;43m\"\u001b[39;49m\u001b[43m)\u001b[49m\n\u001b[1;32m   3466\u001b[0m     exclusive_fp \u001b[38;5;241m=\u001b[39m \u001b[38;5;28;01mTrue\u001b[39;00m\n\u001b[1;32m   3467\u001b[0m \u001b[38;5;28;01melse\u001b[39;00m:\n",
      "\u001b[0;31mFileNotFoundError\u001b[0m: [Errno 2] No such file or directory: 'runs/train/exp/results.png'"
     ]
    },
    {
     "data": {
      "image/png": "[encoded data removed]",
      "text/plain": [
       "<Figure size 1000x600 with 1 Axes>"
      ]
     },
     "metadata": {},
     "output_type": "display_data"
    }
   ],
   "source": [
    "# After training, display the loss & metrics curves that YOLOv7 auto‑generates\n",
    "from PIL import Image\n",
    "fig, ax = plt.subplots(figsize=(10, 6))\n",
    "results_img = Image.open('runs/train/exp/results.png')\n",
    "ax.imshow(results_img)\n",
    "ax.axis('off')\n",
    "plt.title('YOLOv7 Train/Val Loss & mAP Curves')\n",
    "plt.show()"
   ]
  },
  {
   "cell_type": "code",
   "execution_count": null,
   "metadata": {},
   "outputs": [],
   "source": [
    "# Run inference on test set\n",
    "!python detect.py \\\n",
    "    --weights runs/train/exp/weights/best.pt \\\n",
    "    --img 200 \\\n",
    "    --conf 0.25 \\\n",
    "    --source ../dataset/Testing \\\n",
    "    --name yolov7_test \\\n",
    "    --project runs/detect"
   ]
  },
  {
   "cell_type": "code",
   "execution_count": null,
   "metadata": {},
   "outputs": [],
   "source": [
    "# Display a few sample detections\n",
    "import glob\n",
    "\n",
    "out_dir = 'runs/detect/yolov7_test'\n",
    "images = glob.glob(os.path.join(out_dir, '*.jpg'))[:3]\n",
    "\n",
    "fig, axes = plt.subplots(1, len(images), figsize=(len(images)*4, 4))\n",
    "for ax, img_path in zip(axes, images):\n",
    "    img = Image.open(img_path)\n",
    "    ax.imshow(img)\n",
    "    ax.axis('off')\n",
    "plt.suptitle('Sample YOLOv7 Detections on Test Set')\n",
    "plt.show()"
   ]
  },
  {
   "cell_type": "code",
   "execution_count": null,
   "metadata": {},
   "outputs": [],
   "source": [
    "# Compute classification metrics (confusion matrix / report)\n",
    "# We saved text predictions as ../runs/detect/yolov7_test/labels/*.txt\n",
    "# where each file lists: class_id x_center y_center width height conf\n",
    "import numpy as np\n",
    "from sklearn.metrics import confusion_matrix, classification_report\n",
    "\n",
    "# load ground truths\n",
    "gt_files = sorted(glob.glob('../dataset/Testing/*/*.jpg'))\n",
    "gt_labels = [os.path.basename(os.path.dirname(p)) for p in gt_files]\n",
    "\n",
    "# load preds\n",
    "pred_files = sorted(glob.glob(os.path.join(out_dir, 'labels', '*.txt')))\n",
    "pred_labels = []\n",
    "for txt in pred_files:\n",
    "    with open(txt) as f:\n",
    "        line = f.readline().strip().split()\n",
    "        if line:\n",
    "            pred_labels.append(int(line[0]))\n",
    "        else:\n",
    "            pred_labels.append(-1)\n",
    "\n",
    "label_map = {name: idx for idx, name in enumerate(data_cfg['names'])}\n",
    "y_true = [label_map[lbl] for lbl in gt_labels]\n",
    "y_pred = pred_labels[:len(y_true)]  # align lengths\n",
    "\n",
    "# Confusion matrix\n",
    "cm = confusion_matrix(y_true, y_pred, labels=list(range(data_cfg['nc'])))\n",
    "plt.figure(figsize=(6,6))\n",
    "sns.heatmap(cm, annot=True, fmt='d',\n",
    "            xticklabels=data_cfg['names'],\n",
    "            yticklabels=data_cfg['names'],\n",
    "            cmap='Blues')\n",
    "plt.xlabel('Predicted')\n",
    "plt.ylabel('True')\n",
    "plt.title('Confusion Matrix — YOLOv7')\n",
    "plt.show()\n",
    "\n",
    "print(classification_report(y_true, y_pred, target_names=data_cfg['names']))"
   ]
  }
 ],
 "metadata": {
  "kernelspec": {
   "display_name": "Python 3",
   "language": "python",
   "name": "python3"
  },
  "language_info": {
   "codemirror_mode": {
    "name": "ipython",
    "version": 3
   },
   "file_extension": ".py",
   "mimetype": "text/x-python",
   "name": "python",
   "nbconvert_exporter": "python",
   "pygments_lexer": "ipython3",
   "version": "3.9.6"
  }
 },
 "nbformat": 4,
 "nbformat_minor": 2
}
